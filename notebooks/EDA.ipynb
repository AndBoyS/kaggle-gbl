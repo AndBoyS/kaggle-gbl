{
 "cells": [
  {
   "cell_type": "code",
   "execution_count": 25,
   "metadata": {
    "collapsed": true
   },
   "outputs": [],
   "source": [
    "import sys\n",
    "from pathlib import Path\n",
    "\n",
    "import pandas as pd\n",
    "import numpy as np\n",
    "import matplotlib.pyplot as plt\n",
    "\n",
    "repo_dir = Path().resolve().parent\n",
    "sys.path.append(str(repo_dir))\n",
    "\n",
    "data_dir = repo_dir / \"data\""
   ]
  },
  {
   "cell_type": "code",
   "execution_count": 9,
   "outputs": [],
   "source": [
    "zip_path = data_dir / \"predict-student-performance-from-game-play.zip\"\n",
    "\n",
    "if not zip_path.exists():\n",
    "    !kaggle competitions download -c predict-student-performance-from-game-play -p {data_dir}\n",
    "    !unzip -o {zip_path} -d {data_dir}"
   ],
   "metadata": {
    "collapsed": false
   }
  },
  {
   "cell_type": "code",
   "execution_count": 19,
   "outputs": [],
   "source": [
    "train_df_sample = pd.read_csv(data_dir / \"train.csv\", nrows=10000)\n",
    "test_df = pd.read_csv(data_dir / \"test.csv\")\n",
    "train_labels_df = pd.read_csv(data_dir / \"train_labels.csv\")"
   ],
   "metadata": {
    "collapsed": false
   }
  },
  {
   "cell_type": "code",
   "execution_count": 20,
   "outputs": [
    {
     "name": "stdout",
     "output_type": "stream",
     "text": [
      "<class 'pandas.core.frame.DataFrame'>\n",
      "RangeIndex: 10000 entries, 0 to 9999\n",
      "Data columns (total 20 columns):\n",
      " #   Column          Non-Null Count  Dtype  \n",
      "---  ------          --------------  -----  \n",
      " 0   session_id      10000 non-null  int64  \n",
      " 1   index           10000 non-null  int64  \n",
      " 2   elapsed_time    10000 non-null  int64  \n",
      " 3   event_name      10000 non-null  object \n",
      " 4   name            10000 non-null  object \n",
      " 5   level           10000 non-null  int64  \n",
      " 6   page            268 non-null    float64\n",
      " 7   room_coor_x     8830 non-null   float64\n",
      " 8   room_coor_y     8830 non-null   float64\n",
      " 9   screen_coor_x   8830 non-null   float64\n",
      " 10  screen_coor_y   8830 non-null   float64\n",
      " 11  hover_duration  1144 non-null   float64\n",
      " 12  text            3383 non-null   object \n",
      " 13  fqid            6816 non-null   object \n",
      " 14  room_fqid       10000 non-null  object \n",
      " 15  text_fqid       3383 non-null   object \n",
      " 16  fullscreen      0 non-null      float64\n",
      " 17  hq              0 non-null      float64\n",
      " 18  music           0 non-null      float64\n",
      " 19  level_group     10000 non-null  object \n",
      "dtypes: float64(9), int64(4), object(7)\n",
      "memory usage: 1.5+ MB\n"
     ]
    }
   ],
   "source": [
    "train_df_sample.info()"
   ],
   "metadata": {
    "collapsed": false
   }
  },
  {
   "cell_type": "code",
   "execution_count": 21,
   "outputs": [
    {
     "name": "stdout",
     "output_type": "stream",
     "text": [
      "<class 'pandas.core.frame.DataFrame'>\n",
      "RangeIndex: 212022 entries, 0 to 212021\n",
      "Data columns (total 2 columns):\n",
      " #   Column      Non-Null Count   Dtype \n",
      "---  ------      --------------   ----- \n",
      " 0   session_id  212022 non-null  object\n",
      " 1   correct     212022 non-null  int64 \n",
      "dtypes: int64(1), object(1)\n",
      "memory usage: 3.2+ MB\n"
     ]
    }
   ],
   "source": [
    "train_labels_df.info()"
   ],
   "metadata": {
    "collapsed": false
   }
  },
  {
   "cell_type": "markdown",
   "source": [
    "## Data Exploration"
   ],
   "metadata": {
    "collapsed": false
   }
  },
  {
   "cell_type": "markdown",
   "source": [
    "#### Files\n",
    "\n",
    "- train.csv - the training set\n",
    "- test.csv - the test set\n",
    "- sample_submission.csv - a sample submission file in the correct format\n",
    "- train_labels.csv - correct value for all 18 questions for each session in the training set\n",
    "\n",
    "#### Columns\n",
    "\n",
    "- session_id - the ID of the session the event took place in\n",
    "- index - the index of the event for the session\n",
    "- elapsed_time - how much time has passed (in milliseconds) between the start of the session and when the event was recorded\n",
    "- event_name - the name of the event type\n",
    "- name - the event name (e.g. identifies whether a notebook_click is is opening or closing the notebook)\n",
    "- level - what level of the game the event occurred in (0 to 22)\n",
    "- page - the page number of the event (only for notebook-related events)\n",
    "- room_coor_x - the coordinates of the click in reference to the in-game room (only for click events)\n",
    "- room_coor_y - the coordinates of the click in reference to the in-game room (only for click events)\n",
    "- screen_coor_x - the coordinates of the click in reference to the player’s screen (only for click events)\n",
    "- screen_coor_y - the coordinates of the click in reference to the player’s screen (only for click events)\n",
    "- hover_duration - how long (in milliseconds) the hover happened for (only for hover events)\n",
    "- text - the text the player sees during this event\n",
    "- fqid - the fully qualified ID of the event\n",
    "- room_fqid - the fully qualified ID of the room the event took place in\n",
    "- text_fqid - the fully qualified ID of the\n",
    "- fullscreen - whether the player is in fullscreen mode\n",
    "- hq - whether the game is in high-quality\n",
    "- music - whether the game music is on or off\n",
    "- level_group - which group of levels - and group of questions - this row belongs to (0-4, 5-12, 13-22)"
   ],
   "metadata": {
    "collapsed": false
   }
  },
  {
   "cell_type": "markdown",
   "source": [
    "[EDA example](https://www.kaggle.com/code/nguyenthicamlai/eda-ml-on-game-play-ongoing)"
   ],
   "metadata": {
    "collapsed": false
   }
  },
  {
   "cell_type": "code",
   "execution_count": null,
   "outputs": [],
   "source": [],
   "metadata": {
    "collapsed": false
   }
  }
 ],
 "metadata": {
  "kernelspec": {
   "display_name": "Python 3",
   "language": "python",
   "name": "python3"
  },
  "language_info": {
   "codemirror_mode": {
    "name": "ipython",
    "version": 2
   },
   "file_extension": ".py",
   "mimetype": "text/x-python",
   "name": "python",
   "nbconvert_exporter": "python",
   "pygments_lexer": "ipython2",
   "version": "2.7.6"
  }
 },
 "nbformat": 4,
 "nbformat_minor": 0
}
